{
    "metadata": {
        "kernelspec": {
            "name": "SQL",
            "display_name": "SQL",
            "language": "sql"
        },
        "language_info": {
            "name": "sql",
            "version": ""
        }
    },
    "nbformat_minor": 2,
    "nbformat": 4,
    "cells": [
        {
            "cell_type": "markdown",
            "source": [
                "# Learning Database Questions\n",
                "\n",
                "This notebook collects questions to pose to the Learning database and the queries to answer them."
            ],
            "metadata": {
                "azdata_cell_guid": "c4e9771d-8faf-4e62-a92d-551909caf1c7"
            },
            "attachments": {}
        },
        {
            "cell_type": "markdown",
            "source": [
                "**How many students have declared for each program combination per institution (i.e. major-major, major-minor, major-only)?**"
            ],
            "metadata": {
                "azdata_cell_guid": "e4292dd5-9aaa-4343-ad73-e973914ac286"
            },
            "attachments": {}
        },
        {
            "cell_type": "code",
            "source": [
                "USE Learning;\r\n",
                "GO\r\n",
                "\r\n",
                "WITH StudentProgramCount (InstitutionKey, StudentKey, MajorCount, MinorCount)\r\n",
                "AS\r\n",
                "(\r\n",
                "\tSELECT\r\n",
                "\t\tInstitutionKey\t\t\tAS InstitutionKey,\r\n",
                "\t\tStudentKey\t\t\t\tAS StudentKey,\r\n",
                "\t\tMajor\t\t\t\t\tAS MajorCount,\r\n",
                "\t\tMinor\t\t\t\t\tAS MinorCount\r\n",
                "\tFROM\r\n",
                "\t(\r\n",
                "\t\tSELECT\r\n",
                "\t\t\tsp.InstitutionKey,\r\n",
                "\t\t\tsp.StudentKey,\r\n",
                "\t\t\tp.ProgramType\r\n",
                "\t\tFROM\r\n",
                "\t\t\tEnrollment.StudentProgram sp\r\n",
                "\t\tINNER JOIN\r\n",
                "\t\t\tCurriculum.Program p\r\n",
                "\t\tON\r\n",
                "\t\t\tp.InstitutionKey = sp.InstitutionKey\r\n",
                "\t\tAND\r\n",
                "\t\t\tp.DepartmentKey = sp.DepartmentKey\r\n",
                "\t\tAND\r\n",
                "\t\t\tp.ProgramKey = sp.ProgramKey\r\n",
                "\t) AS StudentProgramType\r\n",
                "\tPIVOT\r\n",
                "\t(\r\n",
                "\t\tCOUNT(ProgramType)\r\n",
                "\t\tFOR ProgramType in (Major, Minor)\r\n",
                "\t) AS StudentProgramTypePivot\r\n",
                ")\r\n",
                "SELECT\r\n",
                "\tspc.InstitutionKey\t\t\tAS InstitutionKey,\r\n",
                "\ti.DisplayName\t\t\t\tAS InstitutionName,\r\n",
                "\tspc.MajorCount\t\t\t\tAS MajorCount,\r\n",
                "\tspc.MinorCount\t\t\t\tAS MinorCount,\r\n",
                "\tCOUNT(*)\t\t\t\t\tAS Students\r\n",
                "FROM\r\n",
                "\tStudentProgramCount spc\r\n",
                "INNER JOIN\r\n",
                "\tOrganization.Institution i\r\n",
                "ON\r\n",
                "\ti.InstitutionKey = spc.InstitutionKey\r\n",
                "INNER JOIN\r\n",
                "\tEnrollment.Student s\r\n",
                "ON\r\n",
                "\ts.InstitutionKey = spc.InstitutionKey\r\n",
                "AND\r\n",
                "\ts.StudentKey = spc.StudentKey\r\n",
                "GROUP BY\r\n",
                "\tspc.InstitutionKey,\r\n",
                "\ti.DisplayName,\r\n",
                "\tspc.MajorCount,\r\n",
                "\tspc.MinorCount\r\n",
                "ORDER BY\r\n",
                "\ti.DisplayName,\r\n",
                "\tspc.InstitutionKey,\r\n",
                "\tspc.MajorCount DESC,\r\n",
                "\tspc.MinorCount DESC;\r\n",
                "GO\r\n",
                ""
            ],
            "metadata": {
                "azdata_cell_guid": "ce46a7e2-46c3-4392-a210-e807e70bcb76",
                "language": "sql",
                "tags": [
                    "hide_input"
                ]
            },
            "outputs": [
                {
                    "output_type": "display_data",
                    "data": {
                        "text/html": "Commands completed successfully."
                    },
                    "metadata": {}
                },
                {
                    "output_type": "display_data",
                    "data": {
                        "text/html": "(3 rows affected)"
                    },
                    "metadata": {}
                },
                {
                    "output_type": "display_data",
                    "data": {
                        "text/html": "Total execution time: 00:00:00.088"
                    },
                    "metadata": {}
                },
                {
                    "output_type": "execute_result",
                    "metadata": {},
                    "execution_count": 1,
                    "data": {
                        "application/vnd.dataresource+json": {
                            "schema": {
                                "fields": [
                                    {
                                        "name": "InstitutionKey"
                                    },
                                    {
                                        "name": "InstitutionName"
                                    },
                                    {
                                        "name": "MajorCount"
                                    },
                                    {
                                        "name": "MinorCount"
                                    },
                                    {
                                        "name": "Students"
                                    }
                                ]
                            },
                            "data": [
                                {
                                    "0": "5c06fc60-fe37-43c5-84a2-a2c0d4024ef6",
                                    "1": "Langworth - Brakus",
                                    "2": "2",
                                    "3": "0",
                                    "4": "2993"
                                },
                                {
                                    "0": "5c06fc60-fe37-43c5-84a2-a2c0d4024ef6",
                                    "1": "Langworth - Brakus",
                                    "2": "1",
                                    "3": "1",
                                    "4": "2936"
                                },
                                {
                                    "0": "5c06fc60-fe37-43c5-84a2-a2c0d4024ef6",
                                    "1": "Langworth - Brakus",
                                    "2": "1",
                                    "3": "0",
                                    "4": "3071"
                                }
                            ]
                        },
                        "text/html": [
                            "<table>",
                            "<tr><th>InstitutionKey</th><th>InstitutionName</th><th>MajorCount</th><th>MinorCount</th><th>Students</th></tr>",
                            "<tr><td>5c06fc60-fe37-43c5-84a2-a2c0d4024ef6</td><td>Langworth - Brakus</td><td>2</td><td>0</td><td>2993</td></tr>",
                            "<tr><td>5c06fc60-fe37-43c5-84a2-a2c0d4024ef6</td><td>Langworth - Brakus</td><td>1</td><td>1</td><td>2936</td></tr>",
                            "<tr><td>5c06fc60-fe37-43c5-84a2-a2c0d4024ef6</td><td>Langworth - Brakus</td><td>1</td><td>0</td><td>3071</td></tr>",
                            "</table>"
                        ]
                    }
                }
            ],
            "execution_count": 1
        }
    ]
}