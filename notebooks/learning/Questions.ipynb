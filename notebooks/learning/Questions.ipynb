{
    "metadata": {
        "kernelspec": {
            "name": "SQL",
            "display_name": "SQL",
            "language": "sql"
        },
        "language_info": {
            "name": "sql",
            "version": ""
        }
    },
    "nbformat_minor": 2,
    "nbformat": 4,
    "cells": [
        {
            "cell_type": "markdown",
            "source": [
                "# Learning Database Questions\n",
                "\n",
                "This notebook collects questions to pose to the Learning database and the queries to answer them."
            ],
            "metadata": {
                "azdata_cell_guid": "c4e9771d-8faf-4e62-a92d-551909caf1c7"
            },
            "attachments": {}
        },
        {
            "cell_type": "markdown",
            "source": [
                "**How many students have declared for each program combination per institution (i.e. major-major, major-minor, major-only)?**"
            ],
            "metadata": {
                "azdata_cell_guid": "e4292dd5-9aaa-4343-ad73-e973914ac286"
            },
            "attachments": {}
        },
        {
            "cell_type": "code",
            "source": [
                "USE Learning;\r\n",
                "GO\r\n",
                "\r\n",
                "WITH StudentProgramCount (InstitutionKey, StudentKey, MajorCount, MinorCount)\r\n",
                "AS\r\n",
                "(\r\n",
                "\tSELECT\r\n",
                "\t\tInstitutionKey\t\t\tAS InstitutionKey,\r\n",
                "\t\tStudentKey\t\t\t\tAS StudentKey,\r\n",
                "\t\tMajor\t\t\t\t\tAS MajorCount,\r\n",
                "\t\tMinor\t\t\t\t\tAS MinorCount\r\n",
                "\tFROM\r\n",
                "\t(\r\n",
                "\t\tSELECT\r\n",
                "\t\t\tsp.InstitutionKey,\r\n",
                "\t\t\tsp.StudentKey,\r\n",
                "\t\t\tp.ProgramType\r\n",
                "\t\tFROM\r\n",
                "\t\t\tEnrollment.StudentProgram sp\r\n",
                "\t\tINNER JOIN\r\n",
                "\t\t\tCurriculum.Program p\r\n",
                "\t\tON\r\n",
                "\t\t\tp.InstitutionKey = sp.InstitutionKey\r\n",
                "\t\tAND\r\n",
                "\t\t\tp.DepartmentKey = sp.DepartmentKey\r\n",
                "\t\tAND\r\n",
                "\t\t\tp.ProgramKey = sp.ProgramKey\r\n",
                "\t) AS StudentProgramType\r\n",
                "\tPIVOT\r\n",
                "\t(\r\n",
                "\t\tCOUNT(ProgramType)\r\n",
                "\t\tFOR ProgramType in (Major, Minor)\r\n",
                "\t) AS StudentProgramTypePivot\r\n",
                ")\r\n",
                "SELECT\r\n",
                "\tspc.InstitutionKey\t\t\tAS InstitutionKey,\r\n",
                "\ti.DisplayName\t\t\t\tAS InstitutionName,\r\n",
                "\tspc.MajorCount\t\t\t\tAS MajorCount,\r\n",
                "\tspc.MinorCount\t\t\t\tAS MinorCount,\r\n",
                "\tCOUNT(*)\t\t\t\t\tAS Students\r\n",
                "FROM\r\n",
                "\tStudentProgramCount spc\r\n",
                "INNER JOIN\r\n",
                "\tOrganization.Institution i\r\n",
                "ON\r\n",
                "\ti.InstitutionKey = spc.InstitutionKey\r\n",
                "INNER JOIN\r\n",
                "\tEnrollment.Student s\r\n",
                "ON\r\n",
                "\ts.InstitutionKey = spc.InstitutionKey\r\n",
                "AND\r\n",
                "\ts.StudentKey = spc.StudentKey\r\n",
                "GROUP BY\r\n",
                "\tspc.InstitutionKey,\r\n",
                "\ti.DisplayName,\r\n",
                "\tspc.MajorCount,\r\n",
                "\tspc.MinorCount\r\n",
                "ORDER BY\r\n",
                "\ti.DisplayName,\r\n",
                "\tspc.InstitutionKey,\r\n",
                "\tspc.MajorCount DESC,\r\n",
                "\tspc.MinorCount DESC;\r\n",
                "GO\r\n",
                ""
            ],
            "metadata": {
                "azdata_cell_guid": "ce46a7e2-46c3-4392-a210-e807e70bcb76",
                "language": "sql",
                "tags": [
                    "hide_input"
                ]
            },
            "outputs": [
                {
                    "output_type": "display_data",
                    "data": {
                        "text/html": "Commands completed successfully."
                    },
                    "metadata": {}
                },
                {
                    "output_type": "display_data",
                    "data": {
                        "text/html": "(3 rows affected)"
                    },
                    "metadata": {}
                },
                {
                    "output_type": "display_data",
                    "data": {
                        "text/html": "Total execution time: 00:00:00.088"
                    },
                    "metadata": {}
                },
                {
                    "output_type": "execute_result",
                    "execution_count": 1,
                    "data": {
                        "application/vnd.dataresource+json": {
                            "schema": {
                                "fields": [
                                    {
                                        "name": "InstitutionKey"
                                    },
                                    {
                                        "name": "InstitutionName"
                                    },
                                    {
                                        "name": "MajorCount"
                                    },
                                    {
                                        "name": "MinorCount"
                                    },
                                    {
                                        "name": "Students"
                                    }
                                ]
                            },
                            "data": [
                                {
                                    "0": "5c06fc60-fe37-43c5-84a2-a2c0d4024ef6",
                                    "1": "Langworth - Brakus",
                                    "2": "2",
                                    "3": "0",
                                    "4": "2993"
                                },
                                {
                                    "0": "5c06fc60-fe37-43c5-84a2-a2c0d4024ef6",
                                    "1": "Langworth - Brakus",
                                    "2": "1",
                                    "3": "1",
                                    "4": "2936"
                                },
                                {
                                    "0": "5c06fc60-fe37-43c5-84a2-a2c0d4024ef6",
                                    "1": "Langworth - Brakus",
                                    "2": "1",
                                    "3": "0",
                                    "4": "3071"
                                }
                            ]
                        },
                        "text/html": "<table><tr><th>InstitutionKey</th><th>InstitutionName</th><th>MajorCount</th><th>MinorCount</th><th>Students</th></tr><tr><td>5c06fc60-fe37-43c5-84a2-a2c0d4024ef6</td><td>Langworth - Brakus</td><td>2</td><td>0</td><td>2993</td></tr><tr><td>5c06fc60-fe37-43c5-84a2-a2c0d4024ef6</td><td>Langworth - Brakus</td><td>1</td><td>1</td><td>2936</td></tr><tr><td>5c06fc60-fe37-43c5-84a2-a2c0d4024ef6</td><td>Langworth - Brakus</td><td>1</td><td>0</td><td>3071</td></tr></table>"
                    },
                    "metadata": {}
                }
            ],
            "execution_count": 1
        },
        {
            "cell_type": "markdown",
            "source": [
                "> Not Started\n",
                "\n",
                "**What is the student's average score for their courses?**\n",
                "\n",
                "- Only program courses?\n",
                "- Only non-program courses?"
            ],
            "metadata": {
                "azdata_cell_guid": "8bcf3959-25b4-4942-873b-8fe51b6052e3"
            },
            "attachments": {}
        },
        {
            "cell_type": "markdown",
            "source": [
                "> In Progress\n",
                "\n",
                "**Has the student met the requirements for their declared programs?**\n",
                "* Passing score in all required classes.\n",
                "* The model ignores general education credit requirements.\n",
                "* The current data generation strategy makes it unlikely for any student to meet their program requirements."
            ],
            "metadata": {
                "azdata_cell_guid": "26ae057e-a1e5-45b0-a3c9-4eec387f942e"
            },
            "attachments": {}
        },
        {
            "cell_type": "code",
            "source": [
                "USE Learning;\r\n",
                "GO\r\n",
                "\r\n",
                "DECLARE @InstitutionKey\t\tuniqueidentifier\t= (SELECT TOP 1 InstitutionKey FROM Organization.Institution TABLESAMPLE (100 PERCENT));\r\n",
                "DECLARE @StudentKey\t\t\tuniqueidentifier\t= (SELECT TOP 1 StudentKey FROM Enrollment.Student TABLESAMPLE (10 PERCENT) WHERE InstitutionKey = @InstitutionKey);\r\n",
                "\r\n",
                "IF @InstitutionKey IS NULL\r\n",
                "\tTHROW 50000, N'No sample taken for InstitutionKey.', 10;\r\n",
                "\r\n",
                "IF @StudentKey IS NULL\r\n",
                "\tTHROW 50000, N'No sample taken for StudentKey.', 20;\r\n",
                "\r\n",
                "PRINT N'Institution Key:  ' + COALESCE(CAST(@InstitutionKey AS nvarchar(36)), N'No key sampled.');\r\n",
                "PRINT N'Student Key:      ' + COALESCE(CAST(@StudentKey AS nvarchar(36)), N'No key sampled.');\r\n",
                "\r\n",
                "-- Display the courses for the programs declared by the student\r\n",
                "-- with associated enrollment information.\r\n",
                "SELECT\r\n",
                "\ts.DisplayName\t\t\t\t\t\t\t\tAS StudentName,\r\n",
                "\ti.DisplayName\t\t\t\t\t\t\t\tAS InstitutionName,\r\n",
                "\td.DisplayName\t\t\t\t\t\t\t\tAS DepartmentName,\r\n",
                "\tp.DisplayName\t\t\t\t\t\t\t\tAS ProgramName,\r\n",
                "\tp.ProgramType\t\t\t\t\t\t\t\tAS ProgramType,\r\n",
                "\tc.DisplayName\t\t\t\t\t\t\t\tAS CourseName,\r\n",
                "\tc.Level\t\t\t\t\t\t\t\t\t\tAS CourseLevel,\r\n",
                "\tt.CalendarYear\t\t\t\t\t\t\t\tAS TermYear,\r\n",
                "\tt.SeasonName\t\t\t\t\t\t\t\tAS TermSeason,\r\n",
                "\tcoe.Score\t\t\t\t\t\t\t\t\tAS Score\r\n",
                "FROM\r\n",
                "\tEnrollment.StudentProgram sp\r\n",
                "INNER JOIN\r\n",
                "\tOrganization.Institution i\r\n",
                "ON\r\n",
                "\ti.InstitutionKey = sp.InstitutionKey\r\n",
                "INNER JOIN\r\n",
                "\tEnrollment.Student s\r\n",
                "ON\r\n",
                "\ts.InstitutionKey = sp.InstitutionKey\r\n",
                "AND\r\n",
                "\ts.StudentKey = sp.StudentKey\r\n",
                "INNER JOIN\r\n",
                "\tOrganization.Department d\r\n",
                "ON\r\n",
                "\td.InstitutionKey = sp.InstitutionKey\r\n",
                "AND\r\n",
                "\td.DepartmentKey = sp.DepartmentKey\r\n",
                "INNER JOIN\r\n",
                "\tCurriculum.Program p\r\n",
                "ON\r\n",
                "\tp.InstitutionKey = sp.InstitutionKey\r\n",
                "AND\r\n",
                "\tp.DepartmentKey = sp.DepartmentKey\r\n",
                "AND\r\n",
                "\tp.ProgramKey = sp.ProgramKey\r\n",
                "INNER JOIN\r\n",
                "\tCurriculum.ProgramCourse pc\r\n",
                "ON\r\n",
                "\tpc.InstitutionKey = p.InstitutionKey\r\n",
                "AND\r\n",
                "\tpc.DepartmentKey = p.DepartmentKey\r\n",
                "AND\r\n",
                "\tpc.ProgramKey = p.ProgramKey\r\n",
                "INNER JOIN\r\n",
                "\tCurriculum.Course c\r\n",
                "ON\r\n",
                "\tc.InstitutionKey = pc.InstitutionKey\r\n",
                "AND\r\n",
                "\tc.DepartmentKey = pc.DepartmentKey\r\n",
                "AND\r\n",
                "\tc.CourseKey = pc.CourseKey\r\n",
                "LEFT OUTER JOIN\r\n",
                "\tEnrollment.CourseOffering co\r\n",
                "\r\n",
                "\tINNER JOIN\r\n",
                "\t\tEnrollment.CourseOfferingEnrollment coe\r\n",
                "\tON\r\n",
                "\t\tcoe.InstitutionKey = @Institutionkey\r\n",
                "\tAND\r\n",
                "\t\tcoe.CourseOfferingKey = co.CourseOfferingKey\r\n",
                "\tAND\r\n",
                "\t\tcoe.StudentKey = @StudentKey\r\n",
                "\tINNER JOIN\r\n",
                "\t\tEnrollment.Term t\r\n",
                "\tON\r\n",
                "\t\tt.InstitutionKey = co.InstitutionKey\r\n",
                "\tAND\r\n",
                "\t\tt.TermKey = co.TermKey\r\n",
                "ON\r\n",
                "\tco.InstitutionKey = c.InstitutionKey\r\n",
                "AND\r\n",
                "\tco.DepartmentKey = c.DepartmentKey\r\n",
                "AND\r\n",
                "\tco.CourseKey = c.CourseKey\r\n",
                "WHERE\r\n",
                "\ts.InstitutionKey = @InstitutionKey\r\n",
                "AND\r\n",
                "\ts.StudentKey = @StudentKey\r\n",
                "ORDER BY\r\n",
                "\td.DisplayName,\r\n",
                "\tp.ProgramType,\r\n",
                "\tp.DisplayName,\r\n",
                "\tc.Level,\r\n",
                "\tc.DisplayName;\r\n",
                "GO\r\n",
                ""
            ],
            "metadata": {
                "azdata_cell_guid": "279dc6ac-d8f6-439c-aa54-6382b7b92c19",
                "language": "sql",
                "tags": [
                    "hide_input"
                ]
            },
            "outputs": [
                {
                    "output_type": "display_data",
                    "data": {
                        "text/html": "Commands completed successfully."
                    },
                    "metadata": {}
                },
                {
                    "output_type": "display_data",
                    "data": {
                        "text/html": "Institution Key:  5C06FC60-FE37-43C5-84A2-A2C0D4024EF6"
                    },
                    "metadata": {}
                },
                {
                    "output_type": "display_data",
                    "data": {
                        "text/html": "Student Key:      F019029C-6433-4DE2-A239-B95EFD12CA34"
                    },
                    "metadata": {}
                },
                {
                    "output_type": "display_data",
                    "data": {
                        "text/html": "(24 rows affected)"
                    },
                    "metadata": {}
                },
                {
                    "output_type": "display_data",
                    "data": {
                        "text/html": "Total execution time: 00:00:00.085"
                    },
                    "metadata": {}
                },
                {
                    "output_type": "execute_result",
                    "metadata": {},
                    "execution_count": 1,
                    "data": {
                        "application/vnd.dataresource+json": {
                            "schema": {
                                "fields": [
                                    {
                                        "name": "StudentName"
                                    },
                                    {
                                        "name": "InstitutionName"
                                    },
                                    {
                                        "name": "DepartmentName"
                                    },
                                    {
                                        "name": "ProgramName"
                                    },
                                    {
                                        "name": "ProgramType"
                                    },
                                    {
                                        "name": "CourseName"
                                    },
                                    {
                                        "name": "CourseLevel"
                                    },
                                    {
                                        "name": "TermYear"
                                    },
                                    {
                                        "name": "TermSeason"
                                    },
                                    {
                                        "name": "Score"
                                    }
                                ]
                            },
                            "data": [
                                {
                                    "0": "Helga Hahn",
                                    "1": "Langworth - Brakus",
                                    "2": "Dept. of Functionality",
                                    "3": "Drive Science",
                                    "4": "Major",
                                    "5": "Navigating Multi-Byte Sensor",
                                    "6": "129",
                                    "7": "2018",
                                    "8": "Spring",
                                    "9": "97"
                                },
                                {
                                    "0": "Helga Hahn",
                                    "1": "Langworth - Brakus",
                                    "2": "Dept. of Functionality",
                                    "3": "Drive Science",
                                    "4": "Major",
                                    "5": "Programming Bluetooth Transmitter",
                                    "6": "135",
                                    "7": "NULL",
                                    "8": "NULL",
                                    "9": "NULL"
                                },
                                {
                                    "0": "Helga Hahn",
                                    "1": "Langworth - Brakus",
                                    "2": "Dept. of Functionality",
                                    "3": "Drive Science",
                                    "4": "Major",
                                    "5": "Transmitting Multi-Byte Matrix",
                                    "6": "257",
                                    "7": "NULL",
                                    "8": "NULL",
                                    "9": "NULL"
                                },
                                {
                                    "0": "Helga Hahn",
                                    "1": "Langworth - Brakus",
                                    "2": "Dept. of Functionality",
                                    "3": "Drive Science",
                                    "4": "Major",
                                    "5": "Generating Auxiliary Hard Drive",
                                    "6": "264",
                                    "7": "NULL",
                                    "8": "NULL",
                                    "9": "NULL"
                                },
                                {
                                    "0": "Helga Hahn",
                                    "1": "Langworth - Brakus",
                                    "2": "Dept. of Functionality",
                                    "3": "Drive Science",
                                    "4": "Major",
                                    "5": "Transmitting Digital Panel",
                                    "6": "321",
                                    "7": "NULL",
                                    "8": "NULL",
                                    "9": "NULL"
                                },
                                {
                                    "0": "Helga Hahn",
                                    "1": "Langworth - Brakus",
                                    "2": "Dept. of Functionality",
                                    "3": "Drive Science",
                                    "4": "Major",
                                    "5": "Copying Redundant Monitor",
                                    "6": "365",
                                    "7": "NULL",
                                    "8": "NULL",
                                    "9": "NULL"
                                },
                                {
                                    "0": "Helga Hahn",
                                    "1": "Langworth - Brakus",
                                    "2": "Dept. of Functionality",
                                    "3": "Drive Science",
                                    "4": "Major",
                                    "5": "Hacking Auxiliary Bandwidth",
                                    "6": "372",
                                    "7": "2015",
                                    "8": "Fall",
                                    "9": "95"
                                },
                                {
                                    "0": "Helga Hahn",
                                    "1": "Langworth - Brakus",
                                    "2": "Dept. of Functionality",
                                    "3": "Drive Science",
                                    "4": "Major",
                                    "5": "Navigating Online Circuit",
                                    "6": "391",
                                    "7": "2018",
                                    "8": "Spring",
                                    "9": "82"
                                },
                                {
                                    "0": "Helga Hahn",
                                    "1": "Langworth - Brakus",
                                    "2": "Dept. of Functionality",
                                    "3": "Drive Science",
                                    "4": "Major",
                                    "5": "Navigating 1080P Feed",
                                    "6": "399",
                                    "7": "NULL",
                                    "8": "NULL",
                                    "9": "NULL"
                                },
                                {
                                    "0": "Helga Hahn",
                                    "1": "Langworth - Brakus",
                                    "2": "Dept. of Functionality",
                                    "3": "Drive Science",
                                    "4": "Major",
                                    "5": "Hacking Primary Application",
                                    "6": "448",
                                    "7": "2017",
                                    "8": "Fall",
                                    "9": "75"
                                },
                                {
                                    "0": "Helga Hahn",
                                    "1": "Langworth - Brakus",
                                    "2": "Dept. of Functionality",
                                    "3": "Drive Science",
                                    "4": "Major",
                                    "5": "Backing Up Auxiliary Protocol",
                                    "6": "451",
                                    "7": "2016",
                                    "8": "Spring",
                                    "9": "51"
                                },
                                {
                                    "0": "Helga Hahn",
                                    "1": "Langworth - Brakus",
                                    "2": "Dept. of Functionality",
                                    "3": "Drive Science",
                                    "4": "Major",
                                    "5": "Compressing Neural Transmitter",
                                    "6": "492",
                                    "7": "NULL",
                                    "8": "NULL",
                                    "9": "NULL"
                                },
                                {
                                    "0": "Helga Hahn",
                                    "1": "Langworth - Brakus",
                                    "2": "Dept. of Paradigm",
                                    "3": "Fantastic Management",
                                    "4": "Major",
                                    "5": "Hacking Digital Program",
                                    "6": "102",
                                    "7": "2016",
                                    "8": "Fall",
                                    "9": "90"
                                },
                                {
                                    "0": "Helga Hahn",
                                    "1": "Langworth - Brakus",
                                    "2": "Dept. of Paradigm",
                                    "3": "Fantastic Management",
                                    "4": "Major",
                                    "5": "Connecting Primary Bus",
                                    "6": "159",
                                    "7": "2017",
                                    "8": "Spring",
                                    "9": "97"
                                },
                                {
                                    "0": "Helga Hahn",
                                    "1": "Langworth - Brakus",
                                    "2": "Dept. of Paradigm",
                                    "3": "Fantastic Management",
                                    "4": "Major",
                                    "5": "Parsing Wireless Circuit",
                                    "6": "175",
                                    "7": "NULL",
                                    "8": "NULL",
                                    "9": "NULL"
                                },
                                {
                                    "0": "Helga Hahn",
                                    "1": "Langworth - Brakus",
                                    "2": "Dept. of Paradigm",
                                    "3": "Fantastic Management",
                                    "4": "Major",
                                    "5": "Hacking Haptic Capacitor",
                                    "6": "188",
                                    "7": "NULL",
                                    "8": "NULL",
                                    "9": "NULL"
                                },
                                {
                                    "0": "Helga Hahn",
                                    "1": "Langworth - Brakus",
                                    "2": "Dept. of Paradigm",
                                    "3": "Fantastic Management",
                                    "4": "Major",
                                    "5": "Connecting Redundant Driver",
                                    "6": "231",
                                    "7": "NULL",
                                    "8": "NULL",
                                    "9": "NULL"
                                },
                                {
                                    "0": "Helga Hahn",
                                    "1": "Langworth - Brakus",
                                    "2": "Dept. of Paradigm",
                                    "3": "Fantastic Management",
                                    "4": "Major",
                                    "5": "Overriding Back-End Hard Drive",
                                    "6": "239",
                                    "7": "2017",
                                    "8": "Spring",
                                    "9": "54"
                                },
                                {
                                    "0": "Helga Hahn",
                                    "1": "Langworth - Brakus",
                                    "2": "Dept. of Paradigm",
                                    "3": "Fantastic Management",
                                    "4": "Major",
                                    "5": "Bypassing Wireless Pixel",
                                    "6": "252",
                                    "7": "2016",
                                    "8": "Fall",
                                    "9": "78"
                                },
                                {
                                    "0": "Helga Hahn",
                                    "1": "Langworth - Brakus",
                                    "2": "Dept. of Paradigm",
                                    "3": "Fantastic Management",
                                    "4": "Major",
                                    "5": "Quantifying Primary Interface",
                                    "6": "279",
                                    "7": "2016",
                                    "8": "Fall",
                                    "9": "65"
                                },
                                {
                                    "0": "Helga Hahn",
                                    "1": "Langworth - Brakus",
                                    "2": "Dept. of Paradigm",
                                    "3": "Fantastic Management",
                                    "4": "Major",
                                    "5": "Bypassing Back-End Matrix",
                                    "6": "360",
                                    "7": "NULL",
                                    "8": "NULL",
                                    "9": "NULL"
                                },
                                {
                                    "0": "Helga Hahn",
                                    "1": "Langworth - Brakus",
                                    "2": "Dept. of Paradigm",
                                    "3": "Fantastic Management",
                                    "4": "Major",
                                    "5": "Overriding Virtual Bandwidth",
                                    "6": "428",
                                    "7": "NULL",
                                    "8": "NULL",
                                    "9": "NULL"
                                },
                                {
                                    "0": "Helga Hahn",
                                    "1": "Langworth - Brakus",
                                    "2": "Dept. of Paradigm",
                                    "3": "Fantastic Management",
                                    "4": "Major",
                                    "5": "Connecting Auxiliary Firewall",
                                    "6": "451",
                                    "7": "NULL",
                                    "8": "NULL",
                                    "9": "NULL"
                                },
                                {
                                    "0": "Helga Hahn",
                                    "1": "Langworth - Brakus",
                                    "2": "Dept. of Paradigm",
                                    "3": "Fantastic Management",
                                    "4": "Major",
                                    "5": "Connecting Cross-Platform Feed",
                                    "6": "476",
                                    "7": "NULL",
                                    "8": "NULL",
                                    "9": "NULL"
                                }
                            ]
                        },
                        "text/html": [
                            "<table>",
                            "<tr><th>StudentName</th><th>InstitutionName</th><th>DepartmentName</th><th>ProgramName</th><th>ProgramType</th><th>CourseName</th><th>CourseLevel</th><th>TermYear</th><th>TermSeason</th><th>Score</th></tr>",
                            "<tr><td>Helga Hahn</td><td>Langworth - Brakus</td><td>Dept. of Functionality</td><td>Drive Science</td><td>Major</td><td>Navigating Multi-Byte Sensor</td><td>129</td><td>2018</td><td>Spring</td><td>97</td></tr>",
                            "<tr><td>Helga Hahn</td><td>Langworth - Brakus</td><td>Dept. of Functionality</td><td>Drive Science</td><td>Major</td><td>Programming Bluetooth Transmitter</td><td>135</td><td>NULL</td><td>NULL</td><td>NULL</td></tr>",
                            "<tr><td>Helga Hahn</td><td>Langworth - Brakus</td><td>Dept. of Functionality</td><td>Drive Science</td><td>Major</td><td>Transmitting Multi-Byte Matrix</td><td>257</td><td>NULL</td><td>NULL</td><td>NULL</td></tr>",
                            "<tr><td>Helga Hahn</td><td>Langworth - Brakus</td><td>Dept. of Functionality</td><td>Drive Science</td><td>Major</td><td>Generating Auxiliary Hard Drive</td><td>264</td><td>NULL</td><td>NULL</td><td>NULL</td></tr>",
                            "<tr><td>Helga Hahn</td><td>Langworth - Brakus</td><td>Dept. of Functionality</td><td>Drive Science</td><td>Major</td><td>Transmitting Digital Panel</td><td>321</td><td>NULL</td><td>NULL</td><td>NULL</td></tr>",
                            "<tr><td>Helga Hahn</td><td>Langworth - Brakus</td><td>Dept. of Functionality</td><td>Drive Science</td><td>Major</td><td>Copying Redundant Monitor</td><td>365</td><td>NULL</td><td>NULL</td><td>NULL</td></tr>",
                            "<tr><td>Helga Hahn</td><td>Langworth - Brakus</td><td>Dept. of Functionality</td><td>Drive Science</td><td>Major</td><td>Hacking Auxiliary Bandwidth</td><td>372</td><td>2015</td><td>Fall</td><td>95</td></tr>",
                            "<tr><td>Helga Hahn</td><td>Langworth - Brakus</td><td>Dept. of Functionality</td><td>Drive Science</td><td>Major</td><td>Navigating Online Circuit</td><td>391</td><td>2018</td><td>Spring</td><td>82</td></tr>",
                            "<tr><td>Helga Hahn</td><td>Langworth - Brakus</td><td>Dept. of Functionality</td><td>Drive Science</td><td>Major</td><td>Navigating 1080P Feed</td><td>399</td><td>NULL</td><td>NULL</td><td>NULL</td></tr>",
                            "<tr><td>Helga Hahn</td><td>Langworth - Brakus</td><td>Dept. of Functionality</td><td>Drive Science</td><td>Major</td><td>Hacking Primary Application</td><td>448</td><td>2017</td><td>Fall</td><td>75</td></tr>",
                            "<tr><td>Helga Hahn</td><td>Langworth - Brakus</td><td>Dept. of Functionality</td><td>Drive Science</td><td>Major</td><td>Backing Up Auxiliary Protocol</td><td>451</td><td>2016</td><td>Spring</td><td>51</td></tr>",
                            "<tr><td>Helga Hahn</td><td>Langworth - Brakus</td><td>Dept. of Functionality</td><td>Drive Science</td><td>Major</td><td>Compressing Neural Transmitter</td><td>492</td><td>NULL</td><td>NULL</td><td>NULL</td></tr>",
                            "<tr><td>Helga Hahn</td><td>Langworth - Brakus</td><td>Dept. of Paradigm</td><td>Fantastic Management</td><td>Major</td><td>Hacking Digital Program</td><td>102</td><td>2016</td><td>Fall</td><td>90</td></tr>",
                            "<tr><td>Helga Hahn</td><td>Langworth - Brakus</td><td>Dept. of Paradigm</td><td>Fantastic Management</td><td>Major</td><td>Connecting Primary Bus</td><td>159</td><td>2017</td><td>Spring</td><td>97</td></tr>",
                            "<tr><td>Helga Hahn</td><td>Langworth - Brakus</td><td>Dept. of Paradigm</td><td>Fantastic Management</td><td>Major</td><td>Parsing Wireless Circuit</td><td>175</td><td>NULL</td><td>NULL</td><td>NULL</td></tr>",
                            "<tr><td>Helga Hahn</td><td>Langworth - Brakus</td><td>Dept. of Paradigm</td><td>Fantastic Management</td><td>Major</td><td>Hacking Haptic Capacitor</td><td>188</td><td>NULL</td><td>NULL</td><td>NULL</td></tr>",
                            "<tr><td>Helga Hahn</td><td>Langworth - Brakus</td><td>Dept. of Paradigm</td><td>Fantastic Management</td><td>Major</td><td>Connecting Redundant Driver</td><td>231</td><td>NULL</td><td>NULL</td><td>NULL</td></tr>",
                            "<tr><td>Helga Hahn</td><td>Langworth - Brakus</td><td>Dept. of Paradigm</td><td>Fantastic Management</td><td>Major</td><td>Overriding Back-End Hard Drive</td><td>239</td><td>2017</td><td>Spring</td><td>54</td></tr>",
                            "<tr><td>Helga Hahn</td><td>Langworth - Brakus</td><td>Dept. of Paradigm</td><td>Fantastic Management</td><td>Major</td><td>Bypassing Wireless Pixel</td><td>252</td><td>2016</td><td>Fall</td><td>78</td></tr>",
                            "<tr><td>Helga Hahn</td><td>Langworth - Brakus</td><td>Dept. of Paradigm</td><td>Fantastic Management</td><td>Major</td><td>Quantifying Primary Interface</td><td>279</td><td>2016</td><td>Fall</td><td>65</td></tr>",
                            "<tr><td>Helga Hahn</td><td>Langworth - Brakus</td><td>Dept. of Paradigm</td><td>Fantastic Management</td><td>Major</td><td>Bypassing Back-End Matrix</td><td>360</td><td>NULL</td><td>NULL</td><td>NULL</td></tr>",
                            "<tr><td>Helga Hahn</td><td>Langworth - Brakus</td><td>Dept. of Paradigm</td><td>Fantastic Management</td><td>Major</td><td>Overriding Virtual Bandwidth</td><td>428</td><td>NULL</td><td>NULL</td><td>NULL</td></tr>",
                            "<tr><td>Helga Hahn</td><td>Langworth - Brakus</td><td>Dept. of Paradigm</td><td>Fantastic Management</td><td>Major</td><td>Connecting Auxiliary Firewall</td><td>451</td><td>NULL</td><td>NULL</td><td>NULL</td></tr>",
                            "<tr><td>Helga Hahn</td><td>Langworth - Brakus</td><td>Dept. of Paradigm</td><td>Fantastic Management</td><td>Major</td><td>Connecting Cross-Platform Feed</td><td>476</td><td>NULL</td><td>NULL</td><td>NULL</td></tr>",
                            "</table>"
                        ]
                    }
                }
            ],
            "execution_count": 1
        }
    ]
}